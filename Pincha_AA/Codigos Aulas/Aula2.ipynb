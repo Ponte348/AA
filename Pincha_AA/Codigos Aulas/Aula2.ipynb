{
 "cells": [
  {
   "cell_type": "markdown",
   "metadata": {},
   "source": [
    "## **Aula 2, Slide 68**"
   ]
  },
  {
   "cell_type": "code",
   "execution_count": 3,
   "metadata": {},
   "outputs": [
    {
     "name": "stdout",
     "output_type": "stream",
     "text": [
      "Resultado: 2 Iterações: 1\n",
      "Resultado: 4 Iterações: 2\n",
      "Resultado: 8 Iterações: 3\n",
      "Resultado: 16 Iterações: 4\n",
      "Resultado: 32 Iterações: 5\n",
      "Resultado: 64 Iterações: 6\n",
      "Resultado: 128 Iterações: 7\n",
      "Resultado: 256 Iterações: 8\n",
      "Resultado: 512 Iterações: 9\n",
      "Resultado: 1024 Iterações: 10\n",
      "Resultado: 2048 Iterações: 11\n"
     ]
    }
   ],
   "source": [
    "## a^b = a*a*a*...*a\n",
    "\n",
    "iter = 0\n",
    "a = 2\n",
    "result = 1\n",
    "for b in range(0,11):\n",
    "    result = result * a\n",
    "    iter += 1\n",
    "    print(\"Resultado:\", result,\"Iterações:\", iter)"
   ]
  },
  {
   "cell_type": "code",
   "execution_count": 7,
   "metadata": {},
   "outputs": [
    {
     "name": "stdout",
     "output_type": "stream",
     "text": [
      "\n",
      " 2 ^ 0\n",
      "Counter = 1\n",
      "Result: 1\n",
      "\n",
      " 2 ^ 1\n",
      "Counter = 1\n",
      "Result: 2\n",
      "\n",
      " 2 ^ 2\n",
      "Counter = 2\n",
      "Result: 4\n",
      "\n",
      " 2 ^ 3\n",
      "Counter = 3\n",
      "Result: 8\n",
      "\n",
      " 2 ^ 4\n",
      "Counter = 4\n",
      "Result: 16\n",
      "\n",
      " 2 ^ 5\n",
      "Counter = 5\n",
      "Result: 32\n",
      "\n",
      " 2 ^ 6\n",
      "Counter = 6\n",
      "Result: 64\n",
      "\n",
      " 2 ^ 7\n",
      "Counter = 7\n",
      "Result: 128\n",
      "\n",
      " 2 ^ 8\n",
      "Counter = 8\n",
      "Result: 256\n",
      "\n",
      " 2 ^ 9\n",
      "Counter = 9\n",
      "Result: 512\n",
      "\n",
      " 2 ^ 10\n",
      "Counter = 10\n",
      "Result: 1024\n"
     ]
    }
   ],
   "source": [
    "## a^b = a^(b-1)*a\n",
    "\n",
    "\n",
    "def f2(a,b,counter):\n",
    "    counter = counter + 1\n",
    "    if b == 1:\n",
    "        print(\"Counter =\", counter)\n",
    "        return a\n",
    "    elif b == 0:\n",
    "        print(\"Counter =\", counter-0)\n",
    "        return 1\n",
    "    else: \n",
    "        return a*f2(a,b-1,counter)\n",
    "\n",
    "\n",
    "a = 2\n",
    "for b in range(0,11):\n",
    "    print(\"\\n\",a, \"^\", b)\n",
    "    print(\"Result:\", f2(a,b,0))\n"
   ]
  },
  {
   "cell_type": "markdown",
   "metadata": {},
   "source": [
    "## **Divide-And-Conquer, Slide 74**"
   ]
  },
  {
   "cell_type": "code",
   "execution_count": 9,
   "metadata": {},
   "outputs": [
    {
     "name": "stdout",
     "output_type": "stream",
     "text": [
      "\n",
      " 2 ^ 0\n",
      "Counter = 1\n",
      "Result: 1\n",
      "\n",
      " 2 ^ 1\n",
      "Counter = 1\n",
      "Result: 2\n",
      "\n",
      " 2 ^ 2\n",
      "Counter = 2\n",
      "Result: 4\n",
      "\n",
      " 2 ^ 3\n",
      "Counter = 3\n",
      "Result: 8\n",
      "\n",
      " 2 ^ 4\n",
      "Counter = 4\n",
      "Result: 16\n",
      "\n",
      " 2 ^ 5\n",
      "Counter = 5\n",
      "Result: 32\n",
      "\n",
      " 2 ^ 6\n",
      "Counter = 6\n",
      "Result: 64\n",
      "\n",
      " 2 ^ 7\n",
      "Counter = 7\n",
      "Result: 128\n",
      "\n",
      " 2 ^ 8\n",
      "Counter = 8\n",
      "Result: 256\n",
      "\n",
      " 2 ^ 9\n",
      "Counter = 9\n",
      "Result: 512\n",
      "\n",
      " 2 ^ 10\n",
      "Counter = 10\n",
      "Result: 1024\n"
     ]
    }
   ],
   "source": [
    "def f_divide(a,b,counter):\n",
    "    if b == 0:\n",
    "        print(\"Counter =\", counter-0)\n",
    "        return 1\n",
    "    if b == 1:\n",
    "        print(\"Counter =\", counter-0)\n",
    "        return a\n",
    "    \n",
    "    counter = counter + 1\n",
    "    return f_divide(a, b//2,counter)* f_divide(a, (b+1)//2,counter)\n",
    "\n",
    "a = 2\n",
    "\n",
    "for b in range(0,11):\n",
    "    print(\"\\n\",a, \"^\", b)\n",
    "    print(\"Result:\", f2(a,b,0))\n"
   ]
  },
  {
   "cell_type": "markdown",
   "metadata": {},
   "source": [
    "## **Decrease-And-Conquer, Slide 78**"
   ]
  },
  {
   "cell_type": "code",
   "execution_count": 10,
   "metadata": {},
   "outputs": [
    {
     "name": "stdout",
     "output_type": "stream",
     "text": [
      "\n",
      " 2 ^ 0\n",
      "Result: 1\n",
      "\n",
      " 2 ^ 1\n",
      "Result: 2\n",
      "\n",
      " 2 ^ 2\n",
      "Result: 4\n",
      "\n",
      " 2 ^ 3\n",
      "Result: 8\n",
      "\n",
      " 2 ^ 4\n",
      "Result: 16\n",
      "\n",
      " 2 ^ 5\n",
      "Result: 32\n",
      "\n",
      " 2 ^ 6\n",
      "Result: 64\n",
      "\n",
      " 2 ^ 7\n",
      "Result: 128\n",
      "\n",
      " 2 ^ 8\n",
      "Result: 256\n",
      "\n",
      " 2 ^ 9\n",
      "Result: 512\n",
      "\n",
      " 2 ^ 10\n",
      "Result: 1024\n"
     ]
    }
   ],
   "source": [
    "def f_decrease(a,b):\n",
    "    if b == 0:\n",
    "        return 1   \n",
    "    \n",
    "    p = f_decrease(a, b//2)\n",
    "\n",
    "    if(b%2==0):\n",
    "        return p*p\n",
    "    \n",
    "    return a * p * p\n",
    "\n",
    "a = 2\n",
    "for b in range(0,11):\n",
    "    print(\"\\n\",a, \"^\", b)\n",
    "    print(\"Result:\", f_decrease(a,b))"
   ]
  }
 ],
 "metadata": {
  "kernelspec": {
   "display_name": "Python 3.10.7 64-bit (microsoft store)",
   "language": "python",
   "name": "python3"
  },
  "language_info": {
   "codemirror_mode": {
    "name": "ipython",
    "version": 3
   },
   "file_extension": ".py",
   "mimetype": "text/x-python",
   "name": "python",
   "nbconvert_exporter": "python",
   "pygments_lexer": "ipython3",
   "version": "3.10.7"
  },
  "orig_nbformat": 4,
  "vscode": {
   "interpreter": {
    "hash": "a7b2a2372410a2c49a90f1b77114262c2e311ee3823d63d365537f7061326748"
   }
  }
 },
 "nbformat": 4,
 "nbformat_minor": 2
}
